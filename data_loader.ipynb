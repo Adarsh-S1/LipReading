{
 "cells": [
  {
   "cell_type": "code",
   "execution_count": 11,
   "metadata": {},
   "outputs": [],
   "source": [
    "import os\n",
    "import glob\n",
    "import string\n",
    "import cv2\n",
    "import numpy as np\n",
    "import torch\n",
    "import torch.nn as nn\n",
    "import torch.optim as optim\n",
    "from torch.utils.data import Dataset, DataLoader, random_split\n",
    "from torch.nn.utils.rnn import pad_sequence\n",
    "from tqdm import tqdm\n",
    "from ml2en import ml2en # Import the Malayalam to Manglish library\n",
    "\n",
    "# Import the LipFormer model from your script\n",
    "from my_model import LipFormer"
   ]
  },
  {
   "cell_type": "code",
   "execution_count": 13,
   "metadata": {},
   "outputs": [],
   "source": [
    "# --- 1. Configuration ---\n",
    "CONFIG = {\n",
    "    \"data\": {\n",
    "        \"landmarks\": \"D:/ADARSH/extracted_landmarks_model_ready\",\n",
    "        \"lip_rois\": \"D:/ADARSH/extracted_lip_crosssection\",\n",
    "        \"transcripts\": \"D:/ADARSH/transcripts\",\n",
    "    },\n",
    "    \"checkpoint_dir\": \"checkpoints\",\n",
    "    \"epochs\": 1, # Increased epochs for meaningful training\n",
    "    \"batch_size\": 1, # You can try 1 if memory issues persist\n",
    "    \"learning_rate\": 1e-4,\n",
    "    \"teacher_forcing_ratio\": 0.5,\n",
    "    \"lambda_val\": 0.7,\n",
    "    \"image_size\": (80, 160),\n",
    "    \"validation_split\": 0.1, # 10% of data for validation\n",
    "}\n"
   ]
  },
  {
   "cell_type": "markdown",
   "metadata": {},
   "source": [
    "2. Vocabulary Definitions "
   ]
  },
  {
   "cell_type": "code",
   "execution_count": 14,
   "metadata": {},
   "outputs": [],
   "source": [
    "# --- Vocabulary for Manglish ---\n",
    "MANGLISH_PAD_TOKEN = 0\n",
    "MANGLISH_SOS_TOKEN = 1\n",
    "MANGLISH_EOS_TOKEN = 2\n",
    "MANGLISH_UNK_TOKEN = 3\n",
    "MANGLISH_CHARS = string.ascii_lowercase + string.digits + \" .'-\"\n",
    "manglish_to_int = {char: i + 4 for i, char in enumerate(MANGLISH_CHARS)}\n",
    "manglish_to_int[\"<pad>\"] = MANGLISH_PAD_TOKEN\n",
    "manglish_to_int[\"<sos>\"] = MANGLISH_SOS_TOKEN\n",
    "manglish_to_int[\"<eos>\"] = MANGLISH_EOS_TOKEN\n",
    "manglish_to_int[\"<unk>\"] = MANGLISH_UNK_TOKEN\n",
    "int_to_manglish = {i: char for char, i in manglish_to_int.items()}\n",
    "MANGLISH_VOCAB_SIZE = len(manglish_to_int)\n",
    "\n",
    "# --- Vocabulary for Malayalam ---\n",
    "MALAYALAM_PAD_TOKEN = 0\n",
    "MALAYALAM_SOS_TOKEN = 1\n",
    "MALAYALAM_EOS_TOKEN = 2\n",
    "MALAYALAM_UNK_TOKEN = 3\n",
    "malayalam_to_int = {\n",
    "    \"<pad>\": MALAYALAM_PAD_TOKEN,\n",
    "    \"<sos>\": MALAYALAM_SOS_TOKEN,\n",
    "    \"<eos>\": MALAYALAM_EOS_TOKEN,\n",
    "    \"<unk>\": MALAYALAM_UNK_TOKEN,\n",
    "}\n",
    "int_to_malayalam = {}"
   ]
  },
  {
   "cell_type": "code",
   "execution_count": 15,
   "metadata": {},
   "outputs": [],
   "source": [
    "def build_malayalam_vocab(transcript_dir):\n",
    "    \"\"\"Scans all transcript files to build the Malayalam character vocabulary.\"\"\"\n",
    "    vocab = set()\n",
    "    transcript_files = glob.glob(os.path.join(transcript_dir, \"*.txt\"))\n",
    "    for file_path in tqdm(transcript_files, desc=\"Building Malayalam Vocab\"):\n",
    "        with open(file_path, 'r', encoding='utf-8') as f:\n",
    "            lines = [line.strip().split() for line in f.readlines()]\n",
    "        full_text = \" \".join([parts[-1] for parts in lines if len(parts) > 2])\n",
    "        vocab.update(list(full_text))\n",
    "    \n",
    "    for i, char in enumerate(sorted(list(vocab))):\n",
    "        malayalam_to_int[char] = i + 4\n",
    "        \n",
    "    global int_to_malayalam\n",
    "    int_to_malayalam = {i: char for char, i in malayalam_to_int.items()}\n",
    "    \n",
    "    return len(malayalam_to_int)"
   ]
  },
  {
   "cell_type": "code",
   "execution_count": 16,
   "metadata": {},
   "outputs": [
    {
     "name": "stderr",
     "output_type": "stream",
     "text": [
      "Building Malayalam Vocab:   0%|          | 0/4385 [00:00<?, ?it/s]"
     ]
    },
    {
     "name": "stderr",
     "output_type": "stream",
     "text": [
      "Building Malayalam Vocab: 100%|██████████| 4385/4385 [00:14<00:00, 292.35it/s]\n"
     ]
    }
   ],
   "source": [
    "MALAYALAM_VOCAB_SIZE = build_malayalam_vocab(CONFIG[\"data\"][\"transcripts\"])"
   ]
  },
  {
   "cell_type": "code",
   "execution_count": 18,
   "metadata": {},
   "outputs": [
    {
     "data": {
      "text/plain": [
       "{0: '<pad>',\n",
       " 1: '<sos>',\n",
       " 2: '<eos>',\n",
       " 3: '<unk>',\n",
       " 4: ' ',\n",
       " 5: ':',\n",
       " 6: 'ം',\n",
       " 7: 'അ',\n",
       " 8: 'ആ',\n",
       " 9: 'ഇ',\n",
       " 10: 'ഈ',\n",
       " 11: 'ഉ',\n",
       " 12: 'ഊ',\n",
       " 13: 'ഋ',\n",
       " 14: 'എ',\n",
       " 15: 'ഏ',\n",
       " 16: 'ഐ',\n",
       " 17: 'ഒ',\n",
       " 18: 'ഓ',\n",
       " 19: 'ഔ',\n",
       " 20: 'ക',\n",
       " 21: 'ഖ',\n",
       " 22: 'ഗ',\n",
       " 23: 'ഘ',\n",
       " 24: 'ങ',\n",
       " 25: 'ച',\n",
       " 26: 'ഛ',\n",
       " 27: 'ജ',\n",
       " 28: 'ഞ',\n",
       " 29: 'ട',\n",
       " 30: 'ഠ',\n",
       " 31: 'ഡ',\n",
       " 32: 'ണ',\n",
       " 33: 'ത',\n",
       " 34: 'ഥ',\n",
       " 35: 'ദ',\n",
       " 36: 'ധ',\n",
       " 37: 'ന',\n",
       " 38: 'പ',\n",
       " 39: 'ഫ',\n",
       " 40: 'ബ',\n",
       " 41: 'ഭ',\n",
       " 42: 'മ',\n",
       " 43: 'യ',\n",
       " 44: 'ര',\n",
       " 45: 'റ',\n",
       " 46: 'ല',\n",
       " 47: 'ള',\n",
       " 48: 'ഴ',\n",
       " 49: 'വ',\n",
       " 50: 'ശ',\n",
       " 51: 'ഷ',\n",
       " 52: 'സ',\n",
       " 53: 'ഹ',\n",
       " 54: 'ാ',\n",
       " 55: 'ി',\n",
       " 56: 'ീ',\n",
       " 57: 'ു',\n",
       " 58: 'ൂ',\n",
       " 59: 'ൃ',\n",
       " 60: 'െ',\n",
       " 61: 'േ',\n",
       " 62: 'ൈ',\n",
       " 63: 'ൊ',\n",
       " 64: 'ോ',\n",
       " 65: 'ൌ',\n",
       " 66: '്',\n",
       " 67: 'ൗ',\n",
       " 68: 'ൺ',\n",
       " 69: 'ൻ',\n",
       " 70: 'ർ',\n",
       " 71: 'ൽ',\n",
       " 72: 'ൾ',\n",
       " 73: '\\u200d',\n",
       " 74: '萍'}"
      ]
     },
     "execution_count": 18,
     "metadata": {},
     "output_type": "execute_result"
    }
   ],
   "source": [
    "int_to_malayalam"
   ]
  },
  {
   "cell_type": "code",
   "execution_count": 17,
   "metadata": {},
   "outputs": [
    {
     "data": {
      "text/plain": [
       "{'<pad>': 0,\n",
       " '<sos>': 1,\n",
       " '<eos>': 2,\n",
       " '<unk>': 3,\n",
       " ' ': 4,\n",
       " ':': 5,\n",
       " 'ം': 6,\n",
       " 'അ': 7,\n",
       " 'ആ': 8,\n",
       " 'ഇ': 9,\n",
       " 'ഈ': 10,\n",
       " 'ഉ': 11,\n",
       " 'ഊ': 12,\n",
       " 'ഋ': 13,\n",
       " 'എ': 14,\n",
       " 'ഏ': 15,\n",
       " 'ഐ': 16,\n",
       " 'ഒ': 17,\n",
       " 'ഓ': 18,\n",
       " 'ഔ': 19,\n",
       " 'ക': 20,\n",
       " 'ഖ': 21,\n",
       " 'ഗ': 22,\n",
       " 'ഘ': 23,\n",
       " 'ങ': 24,\n",
       " 'ച': 25,\n",
       " 'ഛ': 26,\n",
       " 'ജ': 27,\n",
       " 'ഞ': 28,\n",
       " 'ട': 29,\n",
       " 'ഠ': 30,\n",
       " 'ഡ': 31,\n",
       " 'ണ': 32,\n",
       " 'ത': 33,\n",
       " 'ഥ': 34,\n",
       " 'ദ': 35,\n",
       " 'ധ': 36,\n",
       " 'ന': 37,\n",
       " 'പ': 38,\n",
       " 'ഫ': 39,\n",
       " 'ബ': 40,\n",
       " 'ഭ': 41,\n",
       " 'മ': 42,\n",
       " 'യ': 43,\n",
       " 'ര': 44,\n",
       " 'റ': 45,\n",
       " 'ല': 46,\n",
       " 'ള': 47,\n",
       " 'ഴ': 48,\n",
       " 'വ': 49,\n",
       " 'ശ': 50,\n",
       " 'ഷ': 51,\n",
       " 'സ': 52,\n",
       " 'ഹ': 53,\n",
       " 'ാ': 54,\n",
       " 'ി': 55,\n",
       " 'ീ': 56,\n",
       " 'ു': 57,\n",
       " 'ൂ': 58,\n",
       " 'ൃ': 59,\n",
       " 'െ': 60,\n",
       " 'േ': 61,\n",
       " 'ൈ': 62,\n",
       " 'ൊ': 63,\n",
       " 'ോ': 64,\n",
       " 'ൌ': 65,\n",
       " '്': 66,\n",
       " 'ൗ': 67,\n",
       " 'ൺ': 68,\n",
       " 'ൻ': 69,\n",
       " 'ർ': 70,\n",
       " 'ൽ': 71,\n",
       " 'ൾ': 72,\n",
       " '\\u200d': 73,\n",
       " '萍': 74}"
      ]
     },
     "execution_count": 17,
     "metadata": {},
     "output_type": "execute_result"
    }
   ],
   "source": [
    "malayalam_to_int"
   ]
  },
  {
   "cell_type": "code",
   "execution_count": 9,
   "metadata": {},
   "outputs": [
    {
     "data": {
      "text/plain": [
       "{'a': 4,\n",
       " 'b': 5,\n",
       " 'c': 6,\n",
       " 'd': 7,\n",
       " 'e': 8,\n",
       " 'f': 9,\n",
       " 'g': 10,\n",
       " 'h': 11,\n",
       " 'i': 12,\n",
       " 'j': 13,\n",
       " 'k': 14,\n",
       " 'l': 15,\n",
       " 'm': 16,\n",
       " 'n': 17,\n",
       " 'o': 18,\n",
       " 'p': 19,\n",
       " 'q': 20,\n",
       " 'r': 21,\n",
       " 's': 22,\n",
       " 't': 23,\n",
       " 'u': 24,\n",
       " 'v': 25,\n",
       " 'w': 26,\n",
       " 'x': 27,\n",
       " 'y': 28,\n",
       " 'z': 29,\n",
       " '0': 30,\n",
       " '1': 31,\n",
       " '2': 32,\n",
       " '3': 33,\n",
       " '4': 34,\n",
       " '5': 35,\n",
       " '6': 36,\n",
       " '7': 37,\n",
       " '8': 38,\n",
       " '9': 39,\n",
       " ' ': 40,\n",
       " '.': 41,\n",
       " \"'\": 42,\n",
       " '-': 43,\n",
       " '<pad>': 0,\n",
       " '<sos>': 1,\n",
       " '<eos>': 2,\n",
       " '<unk>': 3}"
      ]
     },
     "execution_count": 9,
     "metadata": {},
     "output_type": "execute_result"
    }
   ],
   "source": [
    "manglish_to_int"
   ]
  },
  {
   "cell_type": "code",
   "execution_count": null,
   "metadata": {},
   "outputs": [],
   "source": []
  }
 ],
 "metadata": {
  "kernelspec": {
   "display_name": "video_clip",
   "language": "python",
   "name": "python3"
  },
  "language_info": {
   "codemirror_mode": {
    "name": "ipython",
    "version": 3
   },
   "file_extension": ".py",
   "mimetype": "text/x-python",
   "name": "python",
   "nbconvert_exporter": "python",
   "pygments_lexer": "ipython3",
   "version": "3.10.19"
  }
 },
 "nbformat": 4,
 "nbformat_minor": 2
}
